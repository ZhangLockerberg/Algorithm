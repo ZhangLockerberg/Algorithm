{
 "cells": [
  {
   "cell_type": "code",
   "execution_count": 1,
   "metadata": {},
   "outputs": [],
   "source": [
    "class Tree:\n",
    "    \"\"\"construct a random normal tree\"\"\"\n",
    "    def __init__(self, data, left=0, right=0):\n",
    "        self.data = data\n",
    "        self.left = left\n",
    "        self.right = right\n",
    "    \n",
    "    def __str__(self):\n",
    "        return str(self.data)\n",
    "\n",
    "class MyTree:\n",
    "    \"\"\"construct a binary tree\"\"\"\n",
    "    def __init__(self, base=0):\n",
    "        self.base = base\n",
    "        \n",
    "    def _empty(self):\n",
    "        if self.base == 0:\n",
    "            return True\n",
    "        else:\n",
    "            return False\n",
    "    \n",
    "    def front_traversal(self, tree_base):\n",
    "        if tree_base == 0:\n",
    "            return\n",
    "        \n",
    "        print(tree_base.data)\n",
    "        self.front_traversal(tree_base.left)\n",
    "        self.front_traversal(tree_base.right)\n",
    "        \n",
    "    def mid_traversal(self, tree_base):\n",
    "        if tree_base == 0:\n",
    "            return\n",
    "        \n",
    "        self.mid_traversal(tree_base.left)\n",
    "        print(tree_base.data)\n",
    "        self.mid_traversal(tree_base.right)\n",
    "        \n",
    "    def behind_traversal(self, tree_base):\n",
    "        if tree_base == 0:\n",
    "            return\n",
    "        \n",
    "        self.behind_traversal(tree_base.left)\n",
    "        self.behind_traversal(tree_base.right)\n",
    "        print(tree_base.data)"
   ]
  },
  {
   "cell_type": "code",
   "execution_count": 2,
   "metadata": {},
   "outputs": [],
   "source": [
    "tree1 = Tree(15)\n",
    "tree2 = Tree(7)\n",
    "tree3 = Tree(20, tree1, tree2)\n",
    "tree4 = Tree(9)\n",
    "tree5 = Tree(10)\n",
    "base = Tree(3, tree4, tree3)"
   ]
  },
  {
   "cell_type": "code",
   "execution_count": 3,
   "metadata": {},
   "outputs": [
    {
     "name": "stdout",
     "output_type": "stream",
     "text": [
      "front traversal:\n",
      "3\n",
      "9\n",
      "20\n",
      "15\n",
      "7\n",
      "\n",
      "middle traversal:\n",
      "9\n",
      "3\n",
      "15\n",
      "20\n",
      "7\n",
      "\n",
      "behind traversal:\n",
      "9\n",
      "15\n",
      "7\n",
      "20\n",
      "3\n"
     ]
    }
   ],
   "source": [
    "base_tree = MyTree(base=base)\n",
    "\n",
    "print(\"front traversal:\")\n",
    "base_tree.front_traversal(base_tree.base)\n",
    "print(\"\\nmiddle traversal:\")\n",
    "base_tree.mid_traversal(base_tree.base)\n",
    "print(\"\\nbehind traversal:\")\n",
    "base_tree.behind_traversal(base_tree.base)"
   ]
  }
 ],
 "metadata": {
  "kernelspec": {
   "display_name": "Python 3",
   "language": "python",
   "name": "python3"
  },
  "language_info": {
   "codemirror_mode": {
    "name": "ipython",
    "version": 3
   },
   "file_extension": ".py",
   "mimetype": "text/x-python",
   "name": "python",
   "nbconvert_exporter": "python",
   "pygments_lexer": "ipython3",
   "version": "3.7.6"
  }
 },
 "nbformat": 4,
 "nbformat_minor": 4
}
